{
 "cells": [
  {
   "cell_type": "code",
   "execution_count": 7,
   "id": "7982179e-7938-476b-96b9-beb39d703e9e",
   "metadata": {},
   "outputs": [],
   "source": [
    "import pandas as pd\n",
    "import numpy as np\n",
    "import seaborn as sns\n",
    "import matplotlib.pyplot as plt\n",
    "import math \n",
    "import stats \n",
    "from scipy.stats import shapiro"
   ]
  },
  {
   "cell_type": "code",
   "execution_count": 9,
   "id": "34ea0b26-afb8-448d-9a2d-22c71cf99fd3",
   "metadata": {},
   "outputs": [],
   "source": [
    "class cal_stats:\n",
    "    def __init__(self, user_data):\n",
    "        self.data=user_data\n",
    "    def total(self):\n",
    "        print('Total Sum:',sum(self.data))\n",
    "    def count(self):\n",
    "        print('Total Count:',len(self.data))\n",
    "    def minimum(self):\n",
    "        print('Minimum Value:', min(self.data))\n",
    "    def maximum(self):\n",
    "        print('Maximum Value:', max(self.data))\n",
    "    def data_range(self):\n",
    "        print('Range:', max(self.data)-min(self.data))\n",
    "    def average(self):\n",
    "        print('Mean:',np.mean(self.data))\n",
    "    def median(self):\n",
    "        print('Median:',np.median(self.data))\n",
    "    def mode(self):\n",
    "        try:\n",
    "            print('Mode:',stats.mode(self.data))\n",
    "        except:\n",
    "            print('No Mode')\n",
    "    def var(self):\n",
    "        print('Variance:',np.var(self.data))\n",
    "    def std_dev(self):\n",
    "        print('Standard Deviation:', np.std(self.data))\n",
    "    def skew(self):\n",
    "        print('Skewness:',stats.skewness(self.data))\n",
    "    def kurt(self):\n",
    "        print('Kurtosis:',stats.kurtosis(self.data))\n",
    "    def q1(self):\n",
    "        self.quartile1=np.percentile(self.data,25)\n",
    "        print('Q1:', self.quartile1)\n",
    "    def q3(self):\n",
    "        self.quartile3=np.percentile(self.data,75)\n",
    "        print('Q3:', self.quartile3)\n",
    "    def iqr(self):\n",
    "        self.iq_range= self.quartile3-self.quartile1\n",
    "        print('IQR:',self.iq_range)\n",
    "    def lw(self):\n",
    "        self.lower=self.quartile1- self.iq_range*1.5\n",
    "        print('Lower Whisker:',self.lower)\n",
    "    def uw(self):\n",
    "        self.upper=self.quartile3+ self.iq_range*1.5\n",
    "        print('Upper Whisker:',self.upper)\n",
    "    def outliers_count(self):\n",
    "        outliers= len([i for i in self.data if i>self.upper or i <self.lower] )\n",
    "        print('Total Outliers Count:',outliers)\n",
    "    \n",
    "    def empirical_rule(self):\n",
    "        vary=np.var(self.data,ddof=1)\n",
    "        print('Variance:',vary)\n",
    "        std_dev= vary**0.5\n",
    "        print('Standard Deviation:',std_dev)\n",
    "        for i in range(1,4):\n",
    "            lower=np.mean(self.data)-i*std_dev\n",
    "            upper=np.mean(self.data)+i*std_dev\n",
    "            perc=((self.data>=lower) & (self.data<=upper)).sum() / len(self.data)\n",
    "            print(f'{i} Standard Deviation Range: ({lower:.2f} to {upper:.2f}) --> {perc*100:.2f}% of data ')\n",
    "    \n",
    "    def normality_test(self):\n",
    "        #If pvalue is low let H0 go\n",
    "        #If pvalue is high let H0 fly\n",
    "        stat_val,p_value=shapiro(self.data)\n",
    "        if p_value>=0.05:\n",
    "            print('Likely Follows Normal Distribution')\n",
    "        else:\n",
    "            print('Likely Does Not Follow Normal Distribution')\n",
    "    def confidence_interval(self):\n",
    "        standard_error=np.std(self.data)/np.sqrt(len(self.data))\n",
    "        for conf, z in [(95,1.96),(97,2.17),(99,2.576)]:\n",
    "            moe=standard_error*z\n",
    "            lower=np.mean(self.data)-moe\n",
    "            upper=np.mean(self.data)+moe\n",
    "            print(f'{conf}% Confidence Interval: {lower:.2f}, {upper:.2f}')\n",
    "    def visualize(self):\n",
    "        #unique values countable = discrete\n",
    "        #unique values not countable= continuous\n",
    "        if len(set(self.data))<7:\n",
    "            print('Detected Discrete Data')\n",
    "            plt.figure(figsize=(6,6))\n",
    "            sns.countplot(self.data)\n",
    "            plt.show()\n",
    "\n",
    "            plt.figure(figsize=(6,6))\n",
    "            data_count=pd.Series(self.data).value_counts()\n",
    "            plt.pie(data_count,labels=data_count.index, autopct=\"%0.2f%%\")\n",
    "            plt.show()\n",
    "        else:\n",
    "            print('Detected Continuous Data')\n",
    "            plt.figure(figsize=(6,6))\n",
    "            sns.displot(self.data)\n",
    "            plt.show()\n",
    "            plt.figure(figsize=(6,6))\n",
    "            sns.boxplot(self.data)\n",
    "            plt.show()\n",
    "            \n",
    "                    \n",
    "        \n",
    "    def everything(self):\n",
    "        self.total()\n",
    "        self.count()\n",
    "        self.maximum()\n",
    "        self.minimum()\n",
    "        self.data_range()\n",
    "        self.average()\n",
    "        self.median()\n",
    "        self.mode()\n",
    "        self.var()\n",
    "        self.std_dev()\n",
    "        self.skew()\n",
    "        self.kurt()\n",
    "        self.q1()\n",
    "        self.q3()\n",
    "        self.iqr()\n",
    "        self.lw()\n",
    "        self.uw()\n",
    "        self.outliers_count()\n",
    "        self.empirical_rule()\n",
    "        self.confidence_interval()\n",
    "        self.normality_test()\n",
    "        self.visualize()\n"
   ]
  },
  {
   "cell_type": "code",
   "execution_count": 11,
   "id": "a6ce931b-1bef-43c9-a1ab-bcef7201427a",
   "metadata": {
    "scrolled": true
   },
   "outputs": [
    {
     "name": "stdout",
     "output_type": "stream",
     "text": [
      "Total Sum: 355\n",
      "Total Count: 15\n",
      "Maximum Value: 100\n",
      "Minimum Value: 2\n",
      "Range: 98\n",
      "Mean: 23.666666666666668\n",
      "Median: 16.0\n",
      "No Mode\n",
      "Variance: 584.2222222222222\n",
      "Standard Deviation: 24.170689320377733\n",
      "Skewness: 1.8508670946697108\n",
      "Kurtosis: 2.9720880518340973\n",
      "Q1: 9.0\n",
      "Q3: 27.5\n",
      "IQR: 18.5\n",
      "Lower Whisker: -18.75\n",
      "Upper Whisker: 55.25\n",
      "Total Outliers Count: 1\n",
      "Variance: 625.9523809523808\n",
      "Standard Deviation: 25.01904036833509\n",
      "1 Standard Deviation Range: (-1.35 to 48.69) --> 86.67% of data \n",
      "2 Standard Deviation Range: (-26.37 to 73.70) --> 93.33% of data \n",
      "3 Standard Deviation Range: (-51.39 to 98.72) --> 93.33% of data \n",
      "95% Confidence Interval: 11.43, 35.90\n",
      "97% Confidence Interval: 10.12, 37.21\n",
      "99% Confidence Interval: 7.59, 39.74\n",
      "Likely Does Not Follow Normal Distribution\n",
      "Detected Continuous Data\n"
     ]
    },
    {
     "data": {
      "text/plain": [
       "<Figure size 600x600 with 0 Axes>"
      ]
     },
     "metadata": {},
     "output_type": "display_data"
    },
    {
     "data": {
      "image/png": "[encoded data removed]",
      "text/plain": [
       "<Figure size 500x500 with 1 Axes>"
      ]
     },
     "metadata": {},
     "output_type": "display_data"
    },
    {
     "data": {
      "image/png": "[encoded data removed]",
      "text/plain": [
       "<Figure size 600x600 with 1 Axes>"
      ]
     },
     "metadata": {},
     "output_type": "display_data"
    }
   ],
   "source": [
    "sample=[2,4,6,8,10,12,14,16,18,20,25,30,40,50,100]\n",
    "obj=cal_stats(sample)\n",
    "obj.everything()"
   ]
  },
  {
   "cell_type": "code",
   "execution_count": null,
   "id": "420f7e1a-aeb8-4e9a-9ada-9568cd7b387a",
   "metadata": {},
   "outputs": [],
   "source": []
  }
 ],
 "metadata": {
  "kernelspec": {
   "display_name": "Python [conda env:base] *",
   "language": "python",
   "name": "conda-base-py"
  },
  "language_info": {
   "codemirror_mode": {
    "name": "ipython",
    "version": 3
   },
   "file_extension": ".py",
   "mimetype": "text/x-python",
   "name": "python",
   "nbconvert_exporter": "python",
   "pygments_lexer": "ipython3",
   "version": "3.12.7"
  }
 },
 "nbformat": 4,
 "nbformat_minor": 5
}
